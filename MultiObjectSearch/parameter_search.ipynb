{
 "cells": [
  {
   "cell_type": "markdown",
   "metadata": {},
   "source": [
    "# Parameter Seach for MCTS\n",
    "\n",
    "\n"
   ]
  },
  {
   "cell_type": "code",
   "execution_count": 11,
   "metadata": {},
   "outputs": [],
   "source": [
    "from MCTS.mcts import MCTS\n",
    "import gymnasium as gym\n",
    "import numpy as np\n",
    "from render import SimpleRender\n",
    "from gymnasium import register\n",
    "import yaml\n",
    "from sklearn.model_selection import ParameterGrid"
   ]
  },
  {
   "cell_type": "markdown",
   "metadata": {},
   "source": [
    "## Define gym env"
   ]
  },
  {
   "cell_type": "code",
   "execution_count": 12,
   "metadata": {},
   "outputs": [],
   "source": [
    "register(\n",
    "    id=\"WalledGridWorld-v0\",\n",
    "    entry_point=\"envs.walled_gridworld:WalledGridworld\",\n",
    "    max_episode_steps=300\n",
    ")\n"
   ]
  },
  {
   "cell_type": "code",
   "execution_count": 13,
   "metadata": {},
   "outputs": [],
   "source": [
    "with open('./MAPS.yaml','r') as f:\n",
    "     MAPS  = yaml.load(f,Loader=yaml.FullLoader)\n",
    "\n",
    "\n",
    "map_name=\"9x9\"\n",
    "size = 9\n",
    "\n",
    "env = gym.make(\"WalledGridWorld-v0\",size = size,target_objects = [i for i in range(6)],max_steps = 20,seed=123,map_name=map_name)"
   ]
  },
  {
   "cell_type": "code",
   "execution_count": 39,
   "metadata": {},
   "outputs": [],
   "source": [
    "params = {\"c\":[0.5,0.75,1,1.44,2,10],\n",
    "          \"m\":[1000],\n",
    "          \"gamma\":[0.7,0.8,0.9,0.99],\n",
    "          \"d\": [100]}"
   ]
  },
  {
   "cell_type": "code",
   "execution_count": 40,
   "metadata": {},
   "outputs": [],
   "source": [
    "def do_mcts(env,params):\n",
    "    env = gym.make(\"WalledGridWorld-v0\",size = size,target_objects = [i for i in range(6)],max_steps = 20,seed=123,map_name=map_name)\n",
    "    state = env.reset()\n",
    "    mcts = MCTS(env,state,params['d'],params['m'],params['c'],params['gamma'])\n",
    "    done = False\n",
    "    while not done:\n",
    "        action = mcts.search()\n",
    "        observation,reward,done,truncated, info = env.step(action=action)\n",
    "    return info[\"objects_collected\"]\n",
    "\n"
   ]
  },
  {
   "cell_type": "code",
   "execution_count": 41,
   "metadata": {},
   "outputs": [
    {
     "name": "stdout",
     "output_type": "stream",
     "text": [
      "Done: <sklearn.model_selection._search.ParameterGrid object at 0x2a6f7d4d0>\n",
      "{'c': 0.5, 'd': 100, 'gamma': 0.7, 'm': 1000}\n",
      "Done: <sklearn.model_selection._search.ParameterGrid object at 0x2a6f7d4d0>\n",
      "{'c': 0.5, 'd': 100, 'gamma': 0.8, 'm': 1000}\n",
      "Done: <sklearn.model_selection._search.ParameterGrid object at 0x2a6f7d4d0>\n",
      "{'c': 0.5, 'd': 100, 'gamma': 0.9, 'm': 1000}\n",
      "Done: <sklearn.model_selection._search.ParameterGrid object at 0x2a6f7d4d0>\n",
      "Done: <sklearn.model_selection._search.ParameterGrid object at 0x2a6f7d4d0>\n",
      "Done: <sklearn.model_selection._search.ParameterGrid object at 0x2a6f7d4d0>\n",
      "Done: <sklearn.model_selection._search.ParameterGrid object at 0x2a6f7d4d0>\n",
      "Done: <sklearn.model_selection._search.ParameterGrid object at 0x2a6f7d4d0>\n",
      "Done: <sklearn.model_selection._search.ParameterGrid object at 0x2a6f7d4d0>\n",
      "Done: <sklearn.model_selection._search.ParameterGrid object at 0x2a6f7d4d0>\n",
      "Done: <sklearn.model_selection._search.ParameterGrid object at 0x2a6f7d4d0>\n",
      "{'c': 1, 'd': 100, 'gamma': 0.9, 'm': 1000}\n",
      "Done: <sklearn.model_selection._search.ParameterGrid object at 0x2a6f7d4d0>\n",
      "{'c': 1, 'd': 100, 'gamma': 0.99, 'm': 1000}\n",
      "Done: <sklearn.model_selection._search.ParameterGrid object at 0x2a6f7d4d0>\n",
      "Done: <sklearn.model_selection._search.ParameterGrid object at 0x2a6f7d4d0>\n",
      "Done: <sklearn.model_selection._search.ParameterGrid object at 0x2a6f7d4d0>\n",
      "Done: <sklearn.model_selection._search.ParameterGrid object at 0x2a6f7d4d0>\n",
      "Done: <sklearn.model_selection._search.ParameterGrid object at 0x2a6f7d4d0>\n",
      "Done: <sklearn.model_selection._search.ParameterGrid object at 0x2a6f7d4d0>\n",
      "Done: <sklearn.model_selection._search.ParameterGrid object at 0x2a6f7d4d0>\n",
      "Done: <sklearn.model_selection._search.ParameterGrid object at 0x2a6f7d4d0>\n",
      "Done: <sklearn.model_selection._search.ParameterGrid object at 0x2a6f7d4d0>\n",
      "Done: <sklearn.model_selection._search.ParameterGrid object at 0x2a6f7d4d0>\n",
      "Done: <sklearn.model_selection._search.ParameterGrid object at 0x2a6f7d4d0>\n",
      "Done: <sklearn.model_selection._search.ParameterGrid object at 0x2a6f7d4d0>\n"
     ]
    }
   ],
   "source": [
    "num_iters = 5\n",
    "\n",
    "p = ParameterGrid(params)\n",
    "best_score = -1\n",
    "\n",
    "for param in p:\n",
    "    scores = []\n",
    "    for _ in range(num_iters):\n",
    "        scores.append(do_mcts(env,param))\n",
    "    print(f\"Done: {p}\")\n",
    "    mean_score = np.mean(scores)\n",
    "    if mean_score > best_score:\n",
    "        best_score = mean_score\n",
    "        best_params = param\n",
    "        print(best_params)\n",
    "    \n"
   ]
  },
  {
   "cell_type": "code",
   "execution_count": 42,
   "metadata": {},
   "outputs": [
    {
     "data": {
      "text/plain": [
       "{'c': 1, 'd': 100, 'gamma': 0.99, 'm': 1000}"
      ]
     },
     "execution_count": 42,
     "metadata": {},
     "output_type": "execute_result"
    }
   ],
   "source": [
    "best_params"
   ]
  },
  {
   "cell_type": "code",
   "execution_count": null,
   "metadata": {},
   "outputs": [],
   "source": []
  }
 ],
 "metadata": {
  "kernelspec": {
   "display_name": "curly-carnival",
   "language": "python",
   "name": "python3"
  },
  "language_info": {
   "codemirror_mode": {
    "name": "ipython",
    "version": 3
   },
   "file_extension": ".py",
   "mimetype": "text/x-python",
   "name": "python",
   "nbconvert_exporter": "python",
   "pygments_lexer": "ipython3",
   "version": "3.11.6"
  }
 },
 "nbformat": 4,
 "nbformat_minor": 2
}
